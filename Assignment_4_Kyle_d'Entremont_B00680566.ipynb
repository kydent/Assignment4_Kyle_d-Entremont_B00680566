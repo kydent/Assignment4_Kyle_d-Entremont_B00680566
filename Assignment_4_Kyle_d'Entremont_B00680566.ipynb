{
 "cells": [
  {
   "cell_type": "code",
   "execution_count": 27,
   "metadata": {},
   "outputs": [
    {
     "data": {},
     "metadata": {},
     "output_type": "display_data"
    },
    {
     "data": {
      "text/html": [
       "<strong>png:</strong> 2"
      ],
      "text/latex": [
       "\\textbf{png:} 2"
      ],
      "text/markdown": [
       "**png:** 2"
      ],
      "text/plain": [
       "png \n",
       "  2 "
      ]
     },
     "metadata": {},
     "output_type": "display_data"
    }
   ],
   "source": [
    "mycols= c(\"#1A3140\", \"#7F99A4\", \"#A5B6BE\", \"#58443A\", \"#A48C80\")\n",
    "library(ggplot2)\n",
    "\n",
    "Table_Cool = read.table(header=TRUE, text=\" Month    Time_Period Average_Number_of_Species\n",
    "1      June First_12_Hours                      18.1\n",
    "2      June  Last_12_hours                      15.7\n",
    "3      July First_12_Hours                      14.2\n",
    "4      July  Last_12_hours                       7.4\n",
    "5    August First_12_Hours                      12.1\n",
    "6    August  Last_12_hours                       5.9\n",
    "7 September First_12_Hours                      16.4\n",
    "8 September  Last_12_hours                      11.1\")\n",
    "\n",
    "\n",
    "pdf('BEAUTIFULGRAPHICS.pdf',useDingbats=FALSE, width=7.2, height=4.5, family='Helvetica') \n",
    "Table_PPP = ggplot(Table_Cool, aes(factor(Month, levels = c(\"June\", \"July\", \"August\", \"September\")), Average_Number_of_Species, fill = Time_Period)) + \n",
    "  geom_bar(stat=\"identity\", position = \"dodge\") + \n",
    "scale_fill_manual(values= c(mycols), labels= c(\"First 12 Hours\", \"Last 12 Hours\")) + \n",
    "theme_bw() +\n",
    "    theme(axis.text.x=element_text(size=9, angle=0, vjust=0.3),\n",
    "               plot.title=element_text(size=11),\n",
    "               panel.grid=element_blank(),\n",
    "               panel.border=element_blank(),\n",
    "               axis.ticks.y=element_blank(),\n",
    "               axis.ticks.x=element_blank())\n",
    "    \n",
    "Table_PPP + labs(x= \"Month\", y= \"Average Number of Species\", fill= \"Time Period of Day\", caption = \"Figure 1. The average number of bird species observed by eBirders in the morning\n",
    "and afternoon/evening for the months of June, July, August, and September 2018 \n",
    "in Point Pleasant Park, Halifax, Nova Scotia, Canada.\")\n",
    "print(Table_PPP)\n",
    "dev.off()"
   ]
  },
  {
   "cell_type": "code",
   "execution_count": 15,
   "metadata": {},
   "outputs": [],
   "source": [
    "?labs()"
   ]
  },
  {
   "cell_type": "code",
   "execution_count": null,
   "metadata": {},
   "outputs": [],
   "source": []
  }
 ],
 "metadata": {
  "kernelspec": {
   "display_name": "R",
   "language": "R",
   "name": "ir"
  },
  "language_info": {
   "codemirror_mode": "r",
   "file_extension": ".r",
   "mimetype": "text/x-r-source",
   "name": "R",
   "pygments_lexer": "r",
   "version": "3.4.3"
  }
 },
 "nbformat": 4,
 "nbformat_minor": 2
}
